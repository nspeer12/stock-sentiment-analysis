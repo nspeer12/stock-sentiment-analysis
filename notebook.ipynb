{
 "cells": [
  {
   "cell_type": "markdown",
   "metadata": {},
   "source": [
    "# Stock Market Tweet Analysis\n"
   ]
  },
  {
   "cell_type": "markdown",
   "metadata": {},
   "source": [
    "TODO:\n",
    "- Collect data set from twitter\n",
    "- Clean data set\n",
    "- Classify a single tweet as bull/bear using Naive Bayes\n",
    "- Classify a single tweet using deep learning model\n",
    "- (maybe) Classify a single tweet across multiple classes. Bull/bear, good/bad, greedy/frugal, ...\n",
    "- Classify all tweets of a given stock over time. Time series sentiment analysis\n",
    "- Compare sentiment to price of stock. Make pretty graphs"
   ]
  },
  {
   "cell_type": "code",
   "execution_count": null,
   "metadata": {},
   "outputs": [],
   "source": []
  }
 ],
 "metadata": {
  "kernelspec": {
   "display_name": "Python 3",
   "language": "python",
   "name": "python3"
  },
  "language_info": {
   "codemirror_mode": {
    "name": "ipython",
    "version": 3
   },
   "file_extension": ".py",
   "mimetype": "text/x-python",
   "name": "python",
   "nbconvert_exporter": "python",
   "pygments_lexer": "ipython3",
   "version": "3.8.5"
  }
 },
 "nbformat": 4,
 "nbformat_minor": 4
}
